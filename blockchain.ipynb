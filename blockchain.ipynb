{
 "cells": [
  {
   "cell_type": "markdown",
   "metadata": {},
   "source": [
    "# 秘密鍵から公開鍵、アドレスを生成する"
   ]
  },
  {
   "cell_type": "code",
   "execution_count": 10,
   "metadata": {},
   "outputs": [],
   "source": [
    "import os\n",
    "import ecdsa\n",
    "import hashlib\n",
    "import base58\n",
    "\n",
    "private_key = os.urandom(32)\n",
    "public_key = ecdsa.SigningKey.from_string(private_key,curve=ecdsa.SECP256k1).verifying_key.to_string()"
   ]
  },
  {
   "cell_type": "markdown",
   "metadata": {},
   "source": [
    "curve : 楕円曲線を指定"
   ]
  },
  {
   "cell_type": "code",
   "execution_count": 11,
   "metadata": {},
   "outputs": [],
   "source": [
    "prefix_and_pubkey = b\"\\x04\" + public_key"
   ]
  },
  {
   "cell_type": "markdown",
   "metadata": {},
   "source": [
    "b\"\\x04\"はバイナリ,public_keyの前に非圧縮公開鍵のプレフィックスとしてくっつける"
   ]
  },
  {
   "cell_type": "code",
   "execution_count": 13,
   "metadata": {},
   "outputs": [],
   "source": [
    "intermediate = hashlib.sha256(prefix_and_pubkey).digest()\n",
    "ripemd160 = hashlib.new(\"ripemd160\")\n",
    "ripemd160.update(intermediate)\n",
    "hash160 = ripemd160.digest()"
   ]
  },
  {
   "cell_type": "markdown",
   "metadata": {},
   "source": [
    "SHA-256でハッシュし、さらにRIPEMD-160でハッシュ(この過程をまとめて**HASH160**と呼ぶ)"
   ]
  },
  {
   "cell_type": "code",
   "execution_count": 14,
   "metadata": {},
   "outputs": [],
   "source": [
    "prefix_and_hash160 = b\"\\x00\" + hash160"
   ]
  },
  {
   "cell_type": "markdown",
   "metadata": {},
   "source": [
    "公開鍵ハッシュに、公開鍵ハッシュのバージョンプレフィクスである00をくっつける　バージョンプレフィックスとは、生成するアドレスがどのようなタイプのアドレスなのかを示す16進数の情報である"
   ]
  },
  {
   "cell_type": "code",
   "execution_count": 15,
   "metadata": {},
   "outputs": [],
   "source": [
    "double_hash = hashlib.sha256(hashlib.sha256(prefix_and_hash160).digest()).digest()\n",
    "checksum = double_hash[:4]"
   ]
  },
  {
   "cell_type": "markdown",
   "metadata": {},
   "source": [
    "SHA-256で2回ハッシュした後、先頭4バイトを取り出す"
   ]
  },
  {
   "cell_type": "code",
   "execution_count": 16,
   "metadata": {},
   "outputs": [
    {
     "name": "stdout",
     "output_type": "stream",
     "text": [
      "1DpcbxCbksr1fF1sPL1ipEZKa6aRR4EHTg\n"
     ]
    }
   ],
   "source": [
    "pre_address = prefix_and_hash160 + checksum\n",
    "address = base58.b58encode(pre_address)\n",
    "print(address.decode())"
   ]
  },
  {
   "cell_type": "markdown",
   "metadata": {},
   "source": [
    "バージョンプレフィックス+公開鍵のハッシュ値+チェックサムをBase58エンコードすることでアドレスを生成"
   ]
  },
  {
   "cell_type": "markdown",
   "metadata": {},
   "source": [
    "![how_to_create](how_to_create.png)\n",
    "拾い画"
   ]
  }
 ],
 "metadata": {
  "interpreter": {
   "hash": "1f227174208d45bc12c08cb0051d1a3f528b280866f8e4ee108318cedcc12a36"
  },
  "kernelspec": {
   "display_name": "Python 3 (ipykernel)",
   "language": "python",
   "name": "python3"
  },
  "language_info": {
   "codemirror_mode": {
    "name": "ipython",
    "version": 3
   },
   "file_extension": ".py",
   "mimetype": "text/x-python",
   "name": "python",
   "nbconvert_exporter": "python",
   "pygments_lexer": "ipython3",
   "version": "3.9.6"
  }
 },
 "nbformat": 4,
 "nbformat_minor": 2
}
